{
  "nbformat": 4,
  "nbformat_minor": 0,
  "metadata": {
    "celltoolbar": "Format de la Cellule Texte Brut",
    "kernelspec": {
      "display_name": "Python 3",
      "language": "python",
      "name": "python3"
    },
    "language_info": {
      "codemirror_mode": {
        "name": "ipython",
        "version": 3
      },
      "file_extension": ".py",
      "mimetype": "text/x-python",
      "name": "python",
      "nbconvert_exporter": "python",
      "pygments_lexer": "ipython3",
      "version": "3.7.3"
    },
    "colab": {
      "name": "TP_23_Les_Dictionnaires.ipynb",
      "provenance": [],
      "collapsed_sections": []
    }
  },
  "cells": [
    {
      "cell_type": "markdown",
      "metadata": {
        "id": "5259RzwHstCi"
      },
      "source": [
        "<h1 style=\"font-size: 30px; text-align: center; color:#2563A5\" >TP 23 : Les Dictionnaires</h1>\n",
        "\n",
        "---"
      ]
    },
    {
      "cell_type": "markdown",
      "metadata": {
        "id": "U4goY8ElKTJl"
      },
      "source": [
        "**NOM / Prénom** : *écrivez ici votre nom et votre prénom*  \n",
        "Nommez votre Notebook Nom_Prénom_TP_22.  \n",
        "Ce TP sera à rendre via un partage avec nsi.meyroneinc@gmail.com"
      ]
    },
    {
      "cell_type": "markdown",
      "metadata": {
        "id": "6sr3ez58ZkTj"
      },
      "source": [
        "# Introduction\n",
        "\n",
        "Prenons l'exemple d'un répertoire téléhonique. Nous pouvons le mémoriser simplement comme un tableau (ou liste) de tableaux `[nom,numéro]`"
      ]
    },
    {
      "cell_type": "code",
      "metadata": {
        "id": "mkiCvHLQZkTl"
      },
      "source": [
        "liste_tel = [[\"Paul\", 5234],\n",
        "             [\"Emile\", 5345],\n",
        "             [\"Victor\", 5186],\n",
        "             [\"Rose\", 5678],\n",
        "             [\"Hélène\", 5432]]"
      ],
      "execution_count": null,
      "outputs": []
    },
    {
      "cell_type": "markdown",
      "metadata": {
        "id": "4Oyjoq38ZkTm"
      },
      "source": [
        "Si nous voulons appeler *Rose*, nous avons deux possibilités avec un tel tableau :\n",
        "* soit il faut savoir que les informations la concernant sont dans le quatrième élément de la liste (ce qui ne semble pas très pratique et réaliste)"
      ]
    },
    {
      "cell_type": "code",
      "metadata": {
        "id": "nUeOzws9ZkTm"
      },
      "source": [
        "print(liste_tel[3][1]) # il faut savoir que l'index de Rose est 3"
      ],
      "execution_count": null,
      "outputs": []
    },
    {
      "cell_type": "markdown",
      "metadata": {
        "id": "-59-wUsLZkTn"
      },
      "source": [
        "* soit nous cherchons dans le tableau en partant du premier élément de la liste jusqu'à ce que nous trouvions *Rose* (ce qui revient à feuilleter son répertoire) : cela nécessite d'utiliser une boucle pour parcourir le tableau."
      ]
    },
    {
      "cell_type": "code",
      "metadata": {
        "id": "k66WCPzDZkTn"
      },
      "source": [
        "for element in liste_tel:\n",
        "    if element[0] == 'Rose':\n",
        "        print(element[1])"
      ],
      "execution_count": null,
      "outputs": []
    },
    {
      "cell_type": "markdown",
      "metadata": {
        "id": "7yess6GaZkTn"
      },
      "source": [
        "Vous conviendrez que ce n'est pas pratique pour accéder à son numéro de téléphone. De même, la modification ou l'ajout d'un information nécessiterait de devoir feuilleter tout le répertoire. Il semblerait plus pratique d'associer un nom à un numéro, autrement dit d'associer à une **information** à une **clé**.\n",
        "\n",
        "C'est ce que les dictionnaires permettent !"
      ]
    },
    {
      "cell_type": "markdown",
      "metadata": {
        "id": "i0mji72CZkTo"
      },
      "source": [
        "# Les dictionnaires en Python"
      ]
    },
    {
      "cell_type": "markdown",
      "metadata": {
        "id": "MYrGSwAUZkTo"
      },
      "source": [
        "Un dictionnaire, de type dict en Python,  est un ensemble <strong>non ordonné</strong> de paires (clé, valeur) avec un accès très rapide à la valeur à partir de la clé.  \n",
        "\n",
        "C'est un type de conteneur comme les list et les tuple mais ce n'est pas une séquence. Au sens où les valeurs des tableaux ne sont pas indexés par des entiers.\n"
      ]
    },
    {
      "cell_type": "markdown",
      "metadata": {
        "id": "9eRovILsZkTp"
      },
      "source": [
        "On peut ajouter des couples (clé, valeur) à un dictionnaire, si la clé figure déjà dans le dictionnaire alors le couple est remplacé par le nouveau.  \n",
        "* Une **clé** peut être de type alphabétique, numérique, ou même de type construit sous certaines conditions.  \n",
        "* Les **valeurs** pourront être de tout type sans exclusion.  \n",
        "\n",
        "En Python, le dictionnaire est un objet **mutable**, autrement dit, on peut le modifier.  \n",
        "\n",
        "A partir d’une clé, on peut alors accéder directement à la valeur qui lui est associée.\n"
      ]
    },
    {
      "cell_type": "markdown",
      "metadata": {
        "id": "srBQIQSVjyUu"
      },
      "source": [
        "**Exemples :**"
      ]
    },
    {
      "cell_type": "code",
      "metadata": {
        "id": "L8qImKDBj0qo"
      },
      "source": [
        "dico={\"yes\":\"oui\", \"no\":\"non\",\"and\":\"et\", \"nsi\":\"dansletop2despé\", \"maths\":\"dansletop2desspé\"}\n",
        "dico"
      ],
      "execution_count": null,
      "outputs": []
    },
    {
      "cell_type": "code",
      "metadata": {
        "id": "ZQ7b6Em0j6Zb"
      },
      "source": [
        " jours={1:\"lundi\",2:\"mardi\",3:\"mercredi\",4:\"jeudi\",5:\"vendredi\",6:\"samedi\",7:\"dimanche\"}\n",
        " jours"
      ],
      "execution_count": null,
      "outputs": []
    },
    {
      "cell_type": "code",
      "metadata": {
        "id": "P6WYiRNJj7re"
      },
      "source": [
        "Balzac={'pnom':'Honoré de Balzac','nais':1799,'mort':1850,'romans':['Les Chouans','La Peau de chagrin','Les Contes drolatiques','Eugénie Grandet','Le Père Goriot','Le Colonel Chabert','Le Lys dans la vallée','Illusions perdues','Ursule Mirouët','La Cousine Bette','Le Cousin Pons']}\n",
        "Balzac"
      ],
      "execution_count": null,
      "outputs": []
    },
    {
      "cell_type": "markdown",
      "metadata": {
        "id": "3N3XS7XtZkTp"
      },
      "source": [
        "## Création d'un dictionnaire\n",
        "\n",
        "Plusieurs méthodes permettent de créer soit un dictionnaire vide, soit de le noter en extension, soit par compréhension."
      ]
    },
    {
      "cell_type": "code",
      "metadata": {
        "id": "8X13rusgZkTp"
      },
      "source": [
        "d1 = {}     # Création d'un dictionnaire vide\n",
        "d2 = dict() # Création d'un dictionnaire vide (autre méthode)\n",
        "d3 = {'poires': 5, 'bananes': 7, 'abricots' : 12} # création d'un dictionnaire par extension\n",
        "d4 = {k: k**2 for k in range(1, 10)} # création d'un dictionnaire par compréhension\n",
        "\n",
        "print(type(d1))"
      ],
      "execution_count": null,
      "outputs": []
    },
    {
      "cell_type": "markdown",
      "metadata": {
        "id": "_gpyvpbd-oF2"
      },
      "source": [
        "**Question 1 :**  \n",
        "Donner l'expression du dictionnaire d4"
      ]
    },
    {
      "cell_type": "markdown",
      "metadata": {
        "id": "m5H8fTIk-1Pm"
      },
      "source": [
        "**Réponse :**  \n"
      ]
    },
    {
      "cell_type": "code",
      "metadata": {
        "id": "4-2_koYGZkTq"
      },
      "source": [
        "print(\"d1 =>\", d1)\n",
        "print(\"d2 =>\", d2)\n",
        "print(\"d3 =>\", d3)\n",
        "print(\"d4 =>\", d4)"
      ],
      "execution_count": null,
      "outputs": []
    },
    {
      "cell_type": "markdown",
      "metadata": {
        "id": "4-0JyK5ZZkTq"
      },
      "source": [
        "Il est même possible de **créer un dictionnaire à partir d'une liste de couples.**"
      ]
    },
    {
      "cell_type": "code",
      "metadata": {
        "id": "k7-Fc_gJZkTq"
      },
      "source": [
        "liste = [('cle1','valeur1'),('cle2','valeur2')]\n",
        "d5 = dict(liste)\n",
        "liste_tel = [[\"Paul\", 5234], [\"Emile\", 5345], [\"Victor\", 5186], [\"Rose\", 5678], [\"Hélène\", 5432]]\n",
        "d6 = dict(liste_tel)\n",
        "\n",
        "print(\"d5 =>\", d5)\n",
        "print(\"d6 =>\", d6)"
      ],
      "execution_count": null,
      "outputs": []
    },
    {
      "cell_type": "markdown",
      "metadata": {
        "id": "6k5Yw3-iZkTr"
      },
      "source": [
        "> **Important** : Vous aurez noté que les dictionnaires Python se représentent entre accolades `{}`. Les différentes paires sont séparées par des virgules et sont de la forme `clé: valeur`."
      ]
    },
    {
      "cell_type": "markdown",
      "metadata": {
        "id": "94qX8b4CZkTr"
      },
      "source": [
        "---\n",
        "### Activité 23.1 \n",
        "\n",
        "Créez un dictionnaire appelé `notes` qui contient les paires (matières, moyenne) de vos trois spécialités. Affichez ensuite ce dictionnaire."
      ]
    },
    {
      "cell_type": "code",
      "metadata": {
        "id": "UmYIzMr9ZkTr"
      },
      "source": [
        "# à vous de jouer !\n"
      ],
      "execution_count": null,
      "outputs": []
    },
    {
      "cell_type": "markdown",
      "metadata": {
        "id": "97_QLxTRZkTr"
      },
      "source": [
        "---\n",
        "## Accès, modification, ajout, suppression\n",
        "\n",
        "L'**accès** à une valeur d'un dictionnaire se fait par sa clé."
      ]
    },
    {
      "cell_type": "code",
      "metadata": {
        "id": "VJXLfzA0ZkTs"
      },
      "source": [
        "d3 = {'poires': 5, 'bananes': 7, 'abricots' : 12}\n",
        "d3['abricots']"
      ],
      "execution_count": null,
      "outputs": []
    },
    {
      "cell_type": "markdown",
      "metadata": {
        "id": "YWBFGYwjZkTs"
      },
      "source": [
        "Le dictionnaire étant un objet *mutable* on peut **modifier** la valeur associée à une clé ou **ajouter** une nouvelle association et afficher le dictionnaire modifié."
      ]
    },
    {
      "cell_type": "code",
      "metadata": {
        "id": "FolJCU7VZkTs"
      },
      "source": [
        "d = {'Paul': 5234, 'Emile': 5345, 'Victor': 5186, 'Rose': 5678, 'Hélène': 5432}\n",
        "d['Rose'] = 4921    # clé existante donc modification de la valeur\n",
        "d['Louane'] = 4118  # nouvelle clé donc ajout d'une nouvelle association\n",
        "print(d)"
      ],
      "execution_count": null,
      "outputs": []
    },
    {
      "cell_type": "markdown",
      "metadata": {
        "id": "SWW3TM7wZkTt"
      },
      "source": [
        "Pour **supprimer** une association d'un dictionnaire on peut utilise le mot clé `del`."
      ]
    },
    {
      "cell_type": "code",
      "metadata": {
        "id": "XPrOyeyvZkTt"
      },
      "source": [
        "print(d)\n",
        "del d['Paul']\n",
        "print(d)"
      ],
      "execution_count": null,
      "outputs": []
    },
    {
      "cell_type": "markdown",
      "metadata": {
        "id": "lK5dSTd-ZkTt"
      },
      "source": [
        "## Taille d'un dictionnaire\n",
        "\n",
        "La fonction `len` renvoie la taille d'un dictionnaire."
      ]
    },
    {
      "cell_type": "code",
      "metadata": {
        "id": "XPb9ToFlZkTt"
      },
      "source": [
        "d3 = {'poires': 5, 'bananes': 7, 'abricots' : 12}\n",
        "len(d3)"
      ],
      "execution_count": null,
      "outputs": []
    },
    {
      "cell_type": "markdown",
      "metadata": {
        "id": "3E9Awbh3ZkTu"
      },
      "source": [
        "---\n",
        "### Activité 23.2\n",
        "\n",
        "On reprend le dictionnaire `notes` de l'activité 1.\n",
        "\n",
        "1. Affichez la moyenne de NSI."
      ]
    },
    {
      "cell_type": "code",
      "metadata": {
        "id": "jeMKaWX3ZkTu"
      },
      "source": [
        ""
      ],
      "execution_count": null,
      "outputs": []
    },
    {
      "cell_type": "markdown",
      "metadata": {
        "id": "BwsIVunbZkTu"
      },
      "source": [
        "2. Modifiez votre moyenne de NSI qui a gagné 2 points. Affichez le dictionnaire."
      ]
    },
    {
      "cell_type": "code",
      "metadata": {
        "id": "YlrtMjWhZkTu"
      },
      "source": [
        ""
      ],
      "execution_count": null,
      "outputs": []
    },
    {
      "cell_type": "markdown",
      "metadata": {
        "id": "f4n1bOjtZkTu"
      },
      "source": [
        "3. Ajoutez la matière `Anglais` avec sa moyenne. Affichez le dictionnaire."
      ]
    },
    {
      "cell_type": "code",
      "metadata": {
        "id": "AztTs9mKZkTv"
      },
      "source": [
        ""
      ],
      "execution_count": null,
      "outputs": []
    },
    {
      "cell_type": "markdown",
      "metadata": {
        "id": "JPn0_8jWZkTv"
      },
      "source": [
        "4. Affichez la taille du dictionnaire."
      ]
    },
    {
      "cell_type": "code",
      "metadata": {
        "id": "Sw1d2_YsZkTv"
      },
      "source": [
        ""
      ],
      "execution_count": null,
      "outputs": []
    },
    {
      "cell_type": "markdown",
      "metadata": {
        "id": "C5pMDPXlZkTv"
      },
      "source": [
        "5. Supprimez une des trois spécialités et affichez le dictionnaire."
      ]
    },
    {
      "cell_type": "code",
      "metadata": {
        "id": "fBHEaWPoZkTv"
      },
      "source": [
        ""
      ],
      "execution_count": null,
      "outputs": []
    },
    {
      "cell_type": "markdown",
      "metadata": {
        "id": "EtFKQHwYZkTv"
      },
      "source": [
        "---\n",
        "\n",
        "# Les itérateurs pour les dictionnaires\n",
        "\n",
        "Il est possible de parcourir un dictionnaire de trois manières :\n",
        "\n",
        "- parcourir l'ensemble des **clés** avec la méthode `keys()` ;\n",
        "- parcourir l'ensemble des **valeurs** avec la méthode `values()` ;\n",
        "- parcourir l'ensemble des **paires clés-valeurs** avec la méthode `items()`.\n",
        "\n",
        "On peut itérer sur un dictionnaire grâce à l'une de ces méthodes."
      ]
    },
    {
      "cell_type": "code",
      "metadata": {
        "id": "NfVtBf01ZkTv"
      },
      "source": [
        "d = {'Paul': 5234, 'Emile': 5345, 'Victor': 5186, 'Rose': 5678, 'Hélène': 5432}\n",
        "for prenom in d.keys():\n",
        "    print(prenom)"
      ],
      "execution_count": null,
      "outputs": []
    },
    {
      "cell_type": "code",
      "metadata": {
        "id": "o-ZChtRfZkTw"
      },
      "source": [
        "for num in d.values():\n",
        "    print(num)"
      ],
      "execution_count": null,
      "outputs": []
    },
    {
      "cell_type": "code",
      "metadata": {
        "id": "vIc-x3HzZkTw"
      },
      "source": [
        "for prenom, num in d.items():\n",
        "    print(prenom, '->', num)"
      ],
      "execution_count": null,
      "outputs": []
    },
    {
      "cell_type": "markdown",
      "metadata": {
        "id": "VPQpwchiZkTw"
      },
      "source": [
        "On peut aussi interroger l'appartenance d'une valeur ou d'une clé grâce au mot clé `in`."
      ]
    },
    {
      "cell_type": "code",
      "metadata": {
        "id": "191aEWFkZkTw"
      },
      "source": [
        "'John' in d.keys()"
      ],
      "execution_count": null,
      "outputs": []
    },
    {
      "cell_type": "code",
      "metadata": {
        "id": "1wSxdgTrZkTx"
      },
      "source": [
        "'Paul' not in d.keys()"
      ],
      "execution_count": null,
      "outputs": []
    },
    {
      "cell_type": "code",
      "metadata": {
        "id": "ifZBXfV7ZkTx"
      },
      "source": [
        "5186 in d.values()"
      ],
      "execution_count": null,
      "outputs": []
    },
    {
      "cell_type": "markdown",
      "metadata": {
        "id": "TRDpunpiZkTx"
      },
      "source": [
        "---\n",
        "### Activité 23.3\n",
        "\n",
        "On considère le dictionnaire `fruits` suivant."
      ]
    },
    {
      "cell_type": "code",
      "metadata": {
        "id": "_MEqC9WLZkTx"
      },
      "source": [
        "fruits = {'poires': 5, 'pommes': 11, 'bananes': 7, 'abricots' : 12}"
      ],
      "execution_count": null,
      "outputs": []
    },
    {
      "cell_type": "markdown",
      "metadata": {
        "id": "x02_XHJsZkTx"
      },
      "source": [
        "1. Affichez tous les fruits du dictionnaire."
      ]
    },
    {
      "cell_type": "code",
      "metadata": {
        "id": "0lQbTYQrZkTx"
      },
      "source": [
        ""
      ],
      "execution_count": null,
      "outputs": []
    },
    {
      "cell_type": "markdown",
      "metadata": {
        "id": "pHXx59l3ZkTy"
      },
      "source": [
        "2. Affichez toutes les quantités du dictionnaire. "
      ]
    },
    {
      "cell_type": "code",
      "metadata": {
        "id": "WqsfLSmgZkTy"
      },
      "source": [
        ""
      ],
      "execution_count": null,
      "outputs": []
    },
    {
      "cell_type": "markdown",
      "metadata": {
        "id": "MtWAWP_eZkTy"
      },
      "source": [
        "3. Ecrivez un programme permettant d'obtenir l'affichage suivant.\n",
        "\n",
        "```\n",
        "Il reste 5 poires\n",
        "Il reste 11 pommes\n",
        "Il reste 7 bananes\n",
        "Il reste 12 abricots\n",
        "```"
      ]
    },
    {
      "cell_type": "code",
      "metadata": {
        "id": "IzbouLqmZkTy"
      },
      "source": [
        ""
      ],
      "execution_count": null,
      "outputs": []
    },
    {
      "cell_type": "markdown",
      "metadata": {
        "id": "r_805MM1qqv2"
      },
      "source": [
        "<h1 style=\"font-size: 30px; text-align: center\">Les dictionnaires : EXERCICES</h1> \n"
      ]
    },
    {
      "cell_type": "markdown",
      "metadata": {
        "id": "_oB4aCkuqrd2"
      },
      "source": [
        "# Exercice 23.1 :\n",
        "On considère le dictionnaire suivant qui contient différents fruits ainsi que leurs quantités."
      ]
    },
    {
      "cell_type": "code",
      "metadata": {
        "id": "jKjgShg4qvGR"
      },
      "source": [
        "fruits = {\"pommes\": 8, \"melons\": 3, \"poires\": 6}"
      ],
      "execution_count": null,
      "outputs": []
    },
    {
      "cell_type": "markdown",
      "metadata": {
        "id": "DA7iU0sBqw3M"
      },
      "source": [
        "1. Quelle instruction permet d'accéder au nombre de melons ?"
      ]
    },
    {
      "cell_type": "code",
      "metadata": {
        "id": "lmViPgIlqzBJ"
      },
      "source": [
        ""
      ],
      "execution_count": null,
      "outputs": []
    },
    {
      "cell_type": "markdown",
      "metadata": {
        "id": "chdL6TPsqzNo"
      },
      "source": [
        "2. On a acheté 16 clémentines et utilisé 4 pommes pour faire une tarte. Quelles instructions permettent de mettre à jour le dictionnaire ?"
      ]
    },
    {
      "cell_type": "code",
      "metadata": {
        "id": "83DuNIqEq1aD"
      },
      "source": [
        ""
      ],
      "execution_count": null,
      "outputs": []
    },
    {
      "cell_type": "markdown",
      "metadata": {
        "id": "ogHoBOrNq2R9"
      },
      "source": [
        "# Exercice 23.2 :\n",
        "Répondez aux questions suivantes **sans exécuter les scripts proposés**. *Vous les exécuterez pour vérifier vos réponses.*\n",
        "1. Qu'affiche le programme suivant ?"
      ]
    },
    {
      "cell_type": "code",
      "metadata": {
        "id": "9ujAqtSKq6E-"
      },
      "source": [
        "fruits = {'pommes': 4, 'melons': 3, 'poires': 6, 'clémentines': 16}\n",
        "for c in fruits.keys():\n",
        "    print(c)"
      ],
      "execution_count": null,
      "outputs": []
    },
    {
      "cell_type": "markdown",
      "metadata": {
        "id": "yHPOxu1Mq4zj"
      },
      "source": [
        "2. Qu'affiche le programme suivant ?"
      ]
    },
    {
      "cell_type": "code",
      "metadata": {
        "id": "ypEC1tfNq_Rg"
      },
      "source": [
        "fruits = {'pommes': 4, 'melons': 3, 'poires': 6, 'clémentines': 16}\n",
        "for cle, valeur in fruits.items():\n",
        "    print(cle, \"->\", valeur)"
      ],
      "execution_count": null,
      "outputs": []
    },
    {
      "cell_type": "markdown",
      "metadata": {
        "id": "Jtygr6Y_rBnR"
      },
      "source": [
        "**Réponse :**  \n"
      ]
    },
    {
      "cell_type": "markdown",
      "metadata": {
        "id": "ZkkrT36CrEbP"
      },
      "source": [
        "3. Qu'affiche le programme suivant ?"
      ]
    },
    {
      "cell_type": "code",
      "metadata": {
        "id": "qEjCHgo1rHGE"
      },
      "source": [
        "fruits = {'pommes': 4, 'melons': 3, 'poires': 6, 'clémentines': 16}\n",
        "for v in fruits.values():\n",
        "    print(v)"
      ],
      "execution_count": null,
      "outputs": []
    },
    {
      "cell_type": "markdown",
      "metadata": {
        "id": "ehGetUawrKQd"
      },
      "source": [
        "**Réponse :**  \n"
      ]
    },
    {
      "cell_type": "markdown",
      "metadata": {
        "id": "au720VLBrLta"
      },
      "source": [
        "# Exercice 23.3\n",
        "On considère qu'il faut ajouter un fruit sur la liste des courses s'il en reste 4 ou moins.<br>\n",
        "1. Ecrivez un programme qui affiche la liste des courses en considérant le dictionnaire suivant."
      ]
    },
    {
      "cell_type": "code",
      "metadata": {
        "id": "kVqzvb7YrQ3c"
      },
      "source": [
        "fruits = {'pommes': 4, 'melons': 3, 'poires': 6, 'clémentines': 16}\n",
        "# à compléter :\n"
      ],
      "execution_count": null,
      "outputs": []
    },
    {
      "cell_type": "markdown",
      "metadata": {
        "id": "fX0Qj84TrPg2"
      },
      "source": [
        "2. Ecrivez une fonction `liste_courses(fruits)` qui prend en paramètre un dictionnaire `fruits` et qui renvoie un tableau avec les fruits de la liste de courses. "
      ]
    },
    {
      "cell_type": "code",
      "metadata": {
        "id": "8jK4DMeErTzC"
      },
      "source": [
        ""
      ],
      "execution_count": null,
      "outputs": []
    },
    {
      "cell_type": "markdown",
      "metadata": {
        "id": "9CqcEdBDrwxq"
      },
      "source": [
        "# Exercice 23.4 : \n",
        "On dispose d’un dictionnaire associant à des noms de commerciaux d’une société le nombre de ventes\n",
        "qu’ils ont réalisées. Par exemple :\n",
        "<code>ventes={\"Dupont\":14, \"Hervy\":19, \"Geoffroy\":15, \"Layec\":21}</code>\n",
        "1. Écrivez une fonction qui prend en entrée un tel dictionnaire et renvoie le nombre total de ventes\n",
        "dans la société.\n",
        "2. Écrivez une fonction qui prend en entrée un tel dictionnaire et renvoie le nom du vendeur ayant\n",
        "réalisé le plus de ventes. Si plusieurs vendeurs sont ex-aequo sur ce critère, la fonction devra retourner\n",
        "le nom de l’un d’entre eux."
      ]
    },
    {
      "cell_type": "code",
      "metadata": {
        "id": "MM7UP796r4px"
      },
      "source": [
        ""
      ],
      "execution_count": null,
      "outputs": []
    },
    {
      "cell_type": "markdown",
      "metadata": {
        "id": "TVfOJ2vBrUNY"
      },
      "source": [
        "# Exercice 23.5 :"
      ]
    },
    {
      "cell_type": "markdown",
      "metadata": {
        "id": "7zAZkfEfrXe0"
      },
      "source": [
        "Voici deux dictionnaires :"
      ]
    },
    {
      "cell_type": "code",
      "metadata": {
        "id": "AkTeMgYErZX2"
      },
      "source": [
        "athletes = {\"Mike\": (1.75, 68), \"John\": (1.89, 93), \"Kate\": (1.67, 62)}\n",
        "sportifs = {\"Mike\": {\"taille\": 1.75,\"poids\": 68}, \"John\": {\"taille\": 1.89,\"poids\": 93}, \"Kate\": {\"taille\": 1.67,\"poids\": 62}}"
      ],
      "execution_count": null,
      "outputs": []
    },
    {
      "cell_type": "markdown",
      "metadata": {
        "id": "nP9-zp-grcCV"
      },
      "source": [
        "1. De quel type sont les clés des deux dictionnaires `athletes` et `sportifs`? De quels types sont les valeurs de ces deux dictionnaires ?"
      ]
    },
    {
      "cell_type": "markdown",
      "metadata": {
        "id": "ZEVh4vcprd4Z"
      },
      "source": [
        "**Réponse :**  \n"
      ]
    },
    {
      "cell_type": "markdown",
      "metadata": {
        "id": "prJbqYFxrgSu"
      },
      "source": [
        "2. Quelle instruction permet d'accéder à la taille de Kate dans le dictionnaire `athletes` ?"
      ]
    },
    {
      "cell_type": "code",
      "metadata": {
        "id": "eZkd-cXJrjoA"
      },
      "source": [
        ""
      ],
      "execution_count": null,
      "outputs": []
    },
    {
      "cell_type": "markdown",
      "metadata": {
        "id": "x2YVVvs2rj40"
      },
      "source": [
        "3. Quelle instruction permet d'accéder à la taille de Kate dans le dictionnaire `sportifs` ?"
      ]
    },
    {
      "cell_type": "code",
      "metadata": {
        "id": "mxwy6fixrlzY"
      },
      "source": [
        ""
      ],
      "execution_count": null,
      "outputs": []
    },
    {
      "cell_type": "markdown",
      "metadata": {
        "id": "vM5Qt_-4rmwm"
      },
      "source": [
        "# Exercice 23.6 :\n",
        "Le Scrabble est un jeu de société où l'on doit former des mots avec tirage aléatoire de lettres, chaque lettre valant un certain nombre de points. Le dictionnaire `scrabble` contient cette association entre une lettre et son nombre de points."
      ]
    },
    {
      "cell_type": "code",
      "metadata": {
        "id": "hzUfQP7prruN"
      },
      "source": [
        "scrabble = {'A': 1, 'B': 3, 'C': 3, 'D': 2, 'E': 1, 'F': 4, 'G': 2, 'H': 4, 'I': 1, 'J': 8, 'K': 10, 'L': 1, 'M': 2, 'N': 1, 'O': 1, 'P': 3, 'Q': 8, 'R': 1, 'S': 1, 'T': 1, 'U': 1, 'V': 4, 'W': 10, 'X': 10, 'Y': 10, 'Z': 10}"
      ],
      "execution_count": null,
      "outputs": []
    },
    {
      "cell_type": "markdown",
      "metadata": {
        "id": "ca_PuCZ_rssP"
      },
      "source": [
        "Ecrivez une fonction `points(mot)` qui renvoie le nombre de points au scrabble de `mot`, qui est une chaîne de caractères majuscules.\n",
        "\n",
        "*Par exemple, le mot \"ARBRE\" doit rapporter 7 points, le mot \"XYLOPHONE\" doit rapporter 32 points*."
      ]
    },
    {
      "cell_type": "code",
      "metadata": {
        "id": "IsqK-2jkrxHQ"
      },
      "source": [
        ""
      ],
      "execution_count": null,
      "outputs": []
    },
    {
      "cell_type": "markdown",
      "metadata": {
        "id": "pD8Nci0LrzVm"
      },
      "source": [
        "# Exercice 23.7\n",
        "On considère la variable `personnages` suivante qui réunit quelques informations sur des personnalités (les âges sont fictifs, vous l'aurez compris)."
      ]
    },
    {
      "cell_type": "code",
      "metadata": {
        "id": "NyGqlpZBr04m"
      },
      "source": [
        "personnages = [{'nom': 'Einstein', 'prénom': 'Albert', 'âge': '35', 'genre': 'm'},\n",
        "           {'nom': 'Hamilton', 'prénom': 'Margaret', 'âge': '23', 'genre': 'f'},\n",
        "           {'nom': 'Nelson', 'prénom': 'Ted', 'âge': '64', 'genre': 'm'},\n",
        "           {'nom': 'Curie', 'prénom': 'Marie', 'âge': '41', 'genre': 'f'}]"
      ],
      "execution_count": null,
      "outputs": []
    },
    {
      "cell_type": "markdown",
      "metadata": {
        "id": "RC3Cai2ar2ov"
      },
      "source": [
        "1. Quel est le type de la variable `personnages`? Quel est le type des éléments de `personnages` ?"
      ]
    },
    {
      "cell_type": "markdown",
      "metadata": {
        "id": "9qxjWbwFr5Cu"
      },
      "source": [
        "**Réponse :**  \n"
      ]
    },
    {
      "cell_type": "markdown",
      "metadata": {
        "id": "h8pKRkTCr65i"
      },
      "source": [
        "2. Quelle instruction permet d'accéder au dictionnaire de Ted Nelson ?"
      ]
    },
    {
      "cell_type": "code",
      "metadata": {
        "id": "iTF28acPr-sX"
      },
      "source": [
        ""
      ],
      "execution_count": null,
      "outputs": []
    },
    {
      "cell_type": "markdown",
      "metadata": {
        "id": "mMZtcoq3r_UN"
      },
      "source": [
        "3. Quelle instruction permet d'accéder à l'âge de Ted Nelson ?"
      ]
    },
    {
      "cell_type": "code",
      "metadata": {
        "id": "IS7dyym1sBzO"
      },
      "source": [
        ""
      ],
      "execution_count": null,
      "outputs": []
    },
    {
      "cell_type": "markdown",
      "metadata": {
        "id": "ErycE8F7sF1t"
      },
      "source": [
        "4. Dans le programme suivant, quel est le type de la variable `p` à chaque tour de boucle ? Quel est le rôle de ce programme ?  \n",
        "```\n",
        "for p in personnages:\n",
        "    if int(p['âge']) <= 40:\n",
        "        print(p['nom'], p['prénom'])\n",
        "```"
      ]
    },
    {
      "cell_type": "markdown",
      "metadata": {
        "id": "U2pYuLRfsMoT"
      },
      "source": [
        "**Réponse :**  \n"
      ]
    },
    {
      "cell_type": "markdown",
      "metadata": {
        "id": "m8QuQybksTOE"
      },
      "source": [
        "5. Proposez un programme qui affiche uniquement les noms et prénoms des femmes du tableau `personnages`."
      ]
    },
    {
      "cell_type": "code",
      "metadata": {
        "id": "CyTM8dk4sUBz"
      },
      "source": [
        ""
      ],
      "execution_count": null,
      "outputs": []
    },
    {
      "cell_type": "markdown",
      "metadata": {
        "id": "q9vTykONsUUY"
      },
      "source": [
        "6. Ecrivez une fonction `age_moyen(personnages)` qui renvoie l'âge moyen des personnalités du tableau `personnages` entré en paramètre. *On doit trouver 40,75 ans*."
      ]
    },
    {
      "cell_type": "code",
      "metadata": {
        "id": "hKDuimogsWzJ"
      },
      "source": [
        ""
      ],
      "execution_count": null,
      "outputs": []
    },
    {
      "cell_type": "markdown",
      "metadata": {
        "id": "f0nKbLsAA6m-"
      },
      "source": [
        "# Exercice 23.8 :  \n",
        "On considère le dictionnaire suivant : "
      ]
    },
    {
      "cell_type": "code",
      "metadata": {
        "id": "s2-4ukYHBvn0"
      },
      "source": [
        "res={'nsi' :18,'maths':17,'svt':14,'français':14,'lv1':8,'physique':12,'HG':11}"
      ],
      "execution_count": null,
      "outputs": []
    },
    {
      "cell_type": "markdown",
      "metadata": {
        "id": "xitKkDCwCR6N"
      },
      "source": [
        "1. Ajouter la moyenne de 12 en lv2."
      ]
    },
    {
      "cell_type": "code",
      "metadata": {
        "id": "S_EC7_reCV_S"
      },
      "source": [
        ""
      ],
      "execution_count": null,
      "outputs": []
    },
    {
      "cell_type": "markdown",
      "metadata": {
        "id": "YfNYvhh-CWj1"
      },
      "source": [
        "2. Calculer la moyenne des notes."
      ]
    },
    {
      "cell_type": "code",
      "metadata": {
        "id": "QEhDXhofCb05"
      },
      "source": [
        ""
      ],
      "execution_count": null,
      "outputs": []
    },
    {
      "cell_type": "markdown",
      "metadata": {
        "id": "xvi0zkOEEGWh"
      },
      "source": [
        "Réaliser un affichage des notes qui ressemble à cela :\n",
        "\n",
        "\n",
        "\n",
        "```\n",
        "la moyenne en nsi est 18  \n",
        "la moyenne en maths est 17\n",
        "etc\n",
        "la moyenne générale est ... \n",
        "```\n",
        "\n"
      ]
    },
    {
      "cell_type": "code",
      "metadata": {
        "id": "70BBS2i5Ea9d"
      },
      "source": [
        ""
      ],
      "execution_count": null,
      "outputs": []
    },
    {
      "cell_type": "markdown",
      "metadata": {
        "id": "tcOFtelxCcnq"
      },
      "source": [
        "# Exercice 23.9 :  \n",
        "1. Ecrire une fonction <code>const_dico(cle,valeur)</code> qui renvoie le dictionnaire définie par les clés et les valeurs entrées en argument.  "
      ]
    },
    {
      "cell_type": "code",
      "metadata": {
        "id": "VbSwuk9wCsr9"
      },
      "source": [
        ""
      ],
      "execution_count": null,
      "outputs": []
    },
    {
      "cell_type": "markdown",
      "metadata": {
        "id": "glps1beVC1Wd"
      },
      "source": [
        "2. On donne des listes de certains joueurs de League Of Legend ainsi que leur classement et leur nombre de points :"
      ]
    },
    {
      "cell_type": "code",
      "metadata": {
        "id": "QzKPecbfC3Gn"
      },
      "source": [
        "pseudo=['Major Alexander','KBM Wiz', 'FNC MagiFelix','Avalanche','love camile','Nobody']\n",
        "classement=[(12,1406),(1,1613),(4,1507),(9,1429),(16,1341),(11,1416)]"
      ],
      "execution_count": null,
      "outputs": []
    },
    {
      "cell_type": "markdown",
      "metadata": {
        "id": "NwN8tY4KC7k2"
      },
      "source": [
        "Appliquer votre fonction const_dico(cle,valeur) sur les joueurs de LOL."
      ]
    },
    {
      "cell_type": "code",
      "metadata": {
        "id": "mbhG4eN8C5yS"
      },
      "source": [
        ""
      ],
      "execution_count": null,
      "outputs": []
    },
    {
      "cell_type": "markdown",
      "metadata": {
        "id": "vU4R4o-wDcYH"
      },
      "source": [
        "# Exercice 23.10 :  \n",
        "On donne le dictionnaire suivant :"
      ]
    },
    {
      "cell_type": "code",
      "metadata": {
        "id": "F-DGGZ6JDsyB"
      },
      "source": [
        "turing={'nom':'Turing','prenom':('Alan','Mathison'),'nation':'anglaise','naissance' : 1912, 'mort':1954}\n"
      ],
      "execution_count": null,
      "outputs": []
    },
    {
      "cell_type": "markdown",
      "metadata": {
        "id": "ppgNJbjdDvDV"
      },
      "source": [
        "1. Afficher les prénoms de Turing.\n",
        "2. Afficher sa nationalité\n",
        "3. Déterminer l'âge qu'avait Alan Turing à sa mort."
      ]
    },
    {
      "cell_type": "code",
      "metadata": {
        "id": "RDSPNZixDzYy"
      },
      "source": [
        ""
      ],
      "execution_count": null,
      "outputs": []
    },
    {
      "cell_type": "markdown",
      "metadata": {
        "id": "oEflC92gEfdF"
      },
      "source": [
        "# Exercice 23.11 :  \n",
        "Voici une citation célèbre de Gandhi :\n",
        "\n",
        "`La vie est un mystère qu'il faut vivre, et non un problème à résoudre.`\n",
        "\n",
        "Créer un dictionnaire qui associe à chaque lettre (clé) son occurrence (valeur)  \n",
        "* Par exemple la lettre 'a' apparait deux fois.  \n",
        "Par exemple dico= {'a':2, .........}"
      ]
    },
    {
      "cell_type": "code",
      "metadata": {
        "id": "yv4aF27OEqVc"
      },
      "source": [
        ""
      ],
      "execution_count": null,
      "outputs": []
    },
    {
      "cell_type": "markdown",
      "metadata": {
        "id": "O0FjLierGQHD"
      },
      "source": [
        "# Exercice 23.12 : QCM de NSI  \n",
        "Les réponses correctes d'un QCM de NSI sont stockées dans un dictionnaire nommé reponses_valides. Les clés sont des chaînes de caractères de la forme \"Q1\". Les valeurs possibles sont des chaînes de caractères correspondant aux quatre réponses \"a\",\"b\",\"c\",\"d\".\n",
        "\n",
        "Exemple : <code>reponses_valides = {\"Q1\":\"c\",\"Q2\":\"a\",\"Q3\":\"d\",\"Q4\":\"c\",\"Q5\":\"b\"}</code>\n",
        "\n",
        "Les réponses données par Alice sont stockées dans le dictionnaire reponses_Alice dont voici un exemple possible :\n",
        "\n",
        "<code>reponses_Alice = {\"Q1\":\"b\",\"Q2\":\"a\",\"Q3\":\"d\",\"Q5\":\"a\"}</code>\n",
        "\n",
        "Lorsqu'Alice n'a pas répondu à une question, il n'y a pas de clef correspondant au nom de l'exercice.\n",
        "\n",
        "La notation d'un QCM de NSI est la suivante : 3 points par réponse correcte, -1 point par réponse incorrecte et 0 si l'on n'a pas répondu\n",
        "\n",
        "Compléter la fonction correction_QCM_Alice(reponses_Alice,reponses_valides) qui, à partir des dictionnaires reponses_Alice et reponses_valides passées en paramètres renvoie le nombre de points obtenus au QCM par Alice."
      ]
    },
    {
      "cell_type": "code",
      "metadata": {
        "id": "MRYDMIsuGpsq"
      },
      "source": [
        "def correction_QCM_Alice(reponses_Alice,reponses_valides):\n",
        "  pass"
      ],
      "execution_count": null,
      "outputs": []
    },
    {
      "cell_type": "markdown",
      "metadata": {
        "id": "NZxfQygaooIF"
      },
      "source": [
        "# Exercice 23.13 : Morse ![NiveauExos3.png](data:image/png;base64,iVBORw0KGgoAAAANSUhEUgAAAEsAAAA1CAMAAAA+uOZpAAAABGdBTUEAALGPC/xhBQAAAAFzUkdCAK7OHOkAAAAgY0hSTQAAeiYAAICEAAD6AAAAgOgAAHUwAADqYAAAOpgAABdwnLpRPAAAAEtQTFRF////AAAAAAAAAAAAAAAAAAAAAAAAAAAAAAAAAAAAAAAAAAAAAAAAAAAAAAAAAAAAAAAAAAAAAAAAAAAAAAAAAAAAtEtThDc9////MDE+RQAAABV0Uk5TACKIEZm7qux3zPpEdd/Hz5vxaVAzdto+kQAAAAFiS0dEAIgFHUgAAAAJcEhZcwAAAMgAAADIAGP6560AAACRSURBVEjH7dfLCoAgEIXhMu1m95p6/zdtOyolOUQE598NwUcbB82yj8qVX5FsafLTyZYJLCOxdh4sWLAie6E0TpXAqoOznG4poob/VyuzLJ8rWLBg3VtNcJaTLRvuhU5gGX6L6WWW4vMACxYsWP+xtGWNRBOfZ6KD93BHR7q2iseWurmgWrdldefO+7699oQ+ARe4YbtUkwkAAAAAJXRFWHRkYXRlOmNyZWF0ZQAyMDE5LTA3LTE3VDA1OjAyOjIwKzAwOjAwv4zBIQAAACV0RVh0ZGF0ZTptb2RpZnkAMjAxOS0wNy0xN1QwNTowMjoyMCswMDowMM7ReZ0AAAAUdEVYdHBkZjpWZXJzaW9uAFBERi0xLjUgBVwLOQAAAABJRU5ErkJggg==)"
      ]
    },
    {
      "cell_type": "code",
      "metadata": {
        "id": "rIPpj9mjpdCf"
      },
      "source": [
        "# compléter les fonctions pour qu'elles\n",
        "# répondent à leur docstring\n",
        "\n",
        "dict_morse={\n",
        "    'A':'- ---',\n",
        "    'B':'--- - - -',\n",
        "    'C':'--- - --- -',\n",
        "    'D':'--- - -',\n",
        "    'E':'-',\n",
        "    'F':'- - --- -',\n",
        "    'G':'--- --- -',\n",
        "    'H':'- - - -',\n",
        "    'I':'- -',\n",
        "    'J':'- --- --- ---',\n",
        "    'K':'--- - ---',\n",
        "    'L':'- --- - -',\n",
        "    'M':'--- ---',\n",
        "    'N':'--- -',\n",
        "    'O':'--- --- ---',\n",
        "    'P':'- --- --- -',\n",
        "    'Q':'--- --- - ---',\n",
        "    'R':'- --- -',\n",
        "    'S':'- - -',\n",
        "    'T':'---',\n",
        "    'U':'- - ---',\n",
        "    'V':'- - - ---',\n",
        "    'W':'- --- ---',\n",
        "    'X':'--- - - ---',\n",
        "    'Y':'--- - --- ---',\n",
        "    'Z':'--- --- - -',\n",
        "    }\n",
        "\n",
        "def traduction_en_morse(texte):\n",
        "    '''\n",
        "    traduit un texte en majuscules en morse\n",
        "    avec un espace entre chaque lettre\n",
        "    et 7 espaces entre chaque mot\n",
        "    texte : str\n",
        "    return : str\n",
        "    >>>mon_texte=\"LE MORSE EST UN LANGAGE CODE\"\n",
        "    >>>traduction_en_morse(mon_texte)==\"- --- - -   -       --- ---   --- --- ---   - --- -   - - -   -       -   - - -   ---       - - ---   --- -       - --- - -   - ---   --- -   --- --- -   - ---   --- --- -   -       --- - --- -   --- --- ---   --- - -   -\"\n",
        "    True\n",
        "    '''\n",
        "    \n",
        "\n",
        "def dictionnaire_morse_caractere(mon_dict):\n",
        "    '''\n",
        "    retourne un dictionnaire dont les clés\n",
        "    sont des caractères morses et les valeurs\n",
        "    les lettres associées\n",
        "    : mon_dict : un dictionnaire qui traduit des\n",
        "    caractères en morse\n",
        "    : return : dict()\n",
        "    >>> mon_morse_dico=dictionnaire_morse_caractere(dict_morse)\n",
        "    >>> mon_morse_dico['--- --- -']='G'\n",
        "    '''\n",
        "    \n",
        "\n",
        "def traduction_morse_francais(mon_code):\n",
        "    '''\n",
        "    traduit un code en morse en texte en français\n",
        "    : mon_code: str\n",
        "    : return : str\n",
        "    >>>mon_texte=\"LE MORSE EST UN LANGAGE CODE\"\n",
        "    >>>code_a_decoder=traduction_en_morse(mon_texte)\n",
        "    >>>traduction_morse_francais(code_a_decoder))==\"LE MORSE EST UN LANGAGE CODE\"\n",
        "    True\n",
        "    '''\n",
        "    global dict_morse"
      ],
      "execution_count": null,
      "outputs": []
    },
    {
      "cell_type": "markdown",
      "metadata": {
        "id": "Qfc0mHMPRXVg"
      },
      "source": [
        "# Exercice 23.14 : gestion de commandes   ![NiveauExos3.png](data:image/png;base64,iVBORw0KGgoAAAANSUhEUgAAAEsAAAA1CAMAAAA+uOZpAAAABGdBTUEAALGPC/xhBQAAAAFzUkdCAK7OHOkAAAAgY0hSTQAAeiYAAICEAAD6AAAAgOgAAHUwAADqYAAAOpgAABdwnLpRPAAAAEtQTFRF////AAAAAAAAAAAAAAAAAAAAAAAAAAAAAAAAAAAAAAAAAAAAAAAAAAAAAAAAAAAAAAAAAAAAAAAAAAAAAAAAAAAAtEtThDc9////MDE+RQAAABV0Uk5TACKIEZm7qux3zPpEdd/Hz5vxaVAzdto+kQAAAAFiS0dEAIgFHUgAAAAJcEhZcwAAAMgAAADIAGP6560AAACRSURBVEjH7dfLCoAgEIXhMu1m95p6/zdtOyolOUQE598NwUcbB82yj8qVX5FsafLTyZYJLCOxdh4sWLAie6E0TpXAqoOznG4poob/VyuzLJ8rWLBg3VtNcJaTLRvuhU5gGX6L6WWW4vMACxYsWP+xtGWNRBOfZ6KD93BHR7q2iseWurmgWrdldefO+7699oQ+ARe4YbtUkwkAAAAAJXRFWHRkYXRlOmNyZWF0ZQAyMDE5LTA3LTE3VDA1OjAyOjIwKzAwOjAwv4zBIQAAACV0RVh0ZGF0ZTptb2RpZnkAMjAxOS0wNy0xN1QwNTowMjoyMCswMDowMM7ReZ0AAAAUdEVYdHBkZjpWZXJzaW9uAFBERi0xLjUgBVwLOQAAAABJRU5ErkJggg==)  \n",
        "\n",
        "Compléter les fonction pour répondre aux docstring"
      ]
    },
    {
      "cell_type": "code",
      "metadata": {
        "id": "GhA8LLUcnWuw"
      },
      "source": [
        "global commandes\n",
        "commandes={'0': {'numero': 'EMA70495', 'nom': 'Ada Lovelace', 'adresse': '64 rue Jocelyne Troccaz', 'ville': 'Tours', 'etat': 'En cours'},\n",
        "           '1': {'numero': 'VWD74550', 'nom': 'Dorothy Vaughan', 'adresse': '33 rue Al-Kindi', 'ville': 'Bordeaux', 'etat': 'En cours'},\n",
        "           '2': {'numero': 'SWK65993', 'nom': 'Gilles Kahn', 'adresse': '53 rue Ingrid Daubechies', 'ville': 'Lille', 'etat': 'En cours'},\n",
        "           '3': {'numero': 'NKR34542', 'nom': 'Ada Lovelace', 'adresse': '98 rue Jules César', 'ville': 'Bordeaux', 'etat': 'Livrée'},\n",
        "           '4': {'numero': 'GEG58414', 'nom': 'Jacques-Louis Lions', 'adresse': '84 rue Al-Kindi', 'ville': 'Rennes', 'etat': 'Retour'},\n",
        "           '5': {'numero': 'FZA36963', 'nom': 'Al-Khwarizmi', 'adresse': '73 rue Adi Shamir', 'ville': 'Marseille', 'etat': 'En cours'},\n",
        "           '6': {'numero': 'QWE58690', 'nom': 'Alonzo Church', 'adresse': '47 rue Jules César', 'ville': 'Paris', 'etat': 'Retour'},\n",
        "           '7': {'numero': 'NLY90647', 'nom': 'Hypatie d’Alexandrie', 'adresse': '51 rue Whitfield Diffie', 'ville': 'Bordeaux', 'etat': 'En cours'},\n",
        "           '8': {'numero': 'VVL26047', 'nom': 'Alonzo Church', 'adresse': '6: rue Adi Shamir', 'ville': 'Montpellier', 'etat': 'En cours'},\n",
        "           '9': {'numero': 'CXO07384', 'nom': 'Jacques-Louis Lions', 'adresse': '30 rue Whitfield Diffie', 'ville': 'Paris', 'etat': 'Livrée'}\n",
        "}"
      ],
      "execution_count": 7,
      "outputs": []
    },
    {
      "cell_type": "code",
      "metadata": {
        "id": "HIwvLnHNmgaR"
      },
      "source": [
        "def afficher_commande_numero(numero_commande):\n",
        "    '''\n",
        "    affiche la commande correspondant au numero\n",
        "    : numero : str\n",
        "    : return : print\n",
        "\n",
        "    '''\n",
        "    \n",
        "    \n",
        "    "
      ],
      "execution_count": null,
      "outputs": []
    },
    {
      "cell_type": "markdown",
      "metadata": {
        "id": "INgNz1cpm65_"
      },
      "source": [
        "    >>>afficher_commande_numero('NLY90647')\n",
        "    commande :NLY90647\n",
        "    Nom :Hypatie d’Alexandrie\n",
        "    Adresse :51 rue Whitfield Diffie\n",
        "    Ville :Bordeaux\n",
        "    Etat :En cours\n",
        "    >>>afficher_commande_numero('NLY90687')\n",
        "    NLY90687: numero commande non enregistré"
      ]
    },
    {
      "cell_type": "code",
      "metadata": {
        "id": "GcBWFocdmpV1"
      },
      "source": [
        "def recherche_par_nom(nom):\n",
        "    '''\n",
        "    recherche les commandes correspondantes au nom\n",
        "    : nom : str\n",
        "    : return : un tuple contenant les commandes\n",
        "    >>> print(recherche_par_nom(\"Ada Lovelace\"))\n",
        "    ({'numero': 'EMA70495', 'nom': 'Ada Lovelace', 'adresse': '64 rue Jocelyne Troccaz', 'ville': 'Tours', 'etat': 'En cours'},\n",
        "    {'numero': 'NKR34542', 'nom': 'Ada Lovelace', 'adresse': '98 rue Jules César', 'ville': 'Bordeaux', 'etat': 'Livrée'})\n",
        "    >>>print(recherche_par_nom(\"Alan Turing\"))\n",
        "    ()\n",
        "    '''\n",
        "    global commandes\n",
        "    \n",
        "\n",
        "def ajouter_commande(numero,nom,adresse,ville,etat):\n",
        "    '''\n",
        "    ajoute une commande\n",
        "    : numero,nom,adresse,ville,etat : str\n",
        "    : return : le dict commande modifié\n",
        "    global commandes '''\n"
      ],
      "execution_count": null,
      "outputs": []
    },
    {
      "cell_type": "markdown",
      "metadata": {
        "id": "DFO7JwdxoUTS"
      },
      "source": [
        "    >>>commandes={'0': {'numero': 'EMA70495', 'nom': 'Ada Lovelace', 'adresse': '64 rue Jocelyne Troccaz', 'ville': 'Tours', 'etat': 'En cours'},\n",
        "           '1': {'numero': 'VWD74550', 'nom': 'Dorothy Vaughan', 'adresse': '33 rue Al-Kindi', 'ville': 'Bordeaux', 'etat': 'En cours'},\n",
        "           '2': {'numero': 'SWK65993', 'nom': 'Gilles Kahn', 'adresse': '53 rue Ingrid Daubechies', 'ville': 'Lille', 'etat': 'En cours'},\n",
        "           '3': {'numero': 'NKR34542', 'nom': 'Ada Lovelace', 'adresse': '98 rue Jules César', 'ville': 'Bordeaux', 'etat': 'Livrée'},\n",
        "           '4': {'numero': 'GEG58414', 'nom': 'Jacques-Louis Lions', 'adresse': '84 rue Al-Kindi', 'ville': 'Rennes', 'etat': 'Retour'},\n",
        "           '5': {'numero': 'FZA36963', 'nom': 'Al-Khwarizmi', 'adresse': '73 rue Adi Shamir', 'ville': 'Marseille', 'etat': 'En cours'},\n",
        "           '6': {'numero': 'QWE58690', 'nom': 'Alonzo Church', 'adresse': '47 rue Jules César', 'ville': 'Paris', 'etat': 'Retour'},\n",
        "           '7': {'numero': 'NLY90647', 'nom': 'Hypatie d’Alexandrie', 'adresse': '51 rue Whitfield Diffie', 'ville': 'Bordeaux', 'etat': 'En cours'},\n",
        "           '8': {'numero': 'VVL26047', 'nom': 'Alonzo Church', 'adresse': '6: rue Adi Shamir', 'ville': 'Montpellier', 'etat': 'En cours'},\n",
        "           '9': {'numero': 'CXO07384', 'nom': 'Jacques-Louis Lions', 'adresse': '30 rue Whitfield Diffie', 'ville': 'Paris', 'etat': 'Livrée'}\n",
        "           }\n",
        "\n",
        "    >>>ajouter_commande(\"AZE1029\",\"Alan Turin\",\"314 rue d'Enigma\",\"Londres\",\"En cours\")\n",
        "    >>>print(commandes)   \n",
        "    {'0': {'numero': 'EMA70495', 'nom': 'Ada Lovelace', 'adresse': '64 rue Jocelyne Troccaz', 'ville': 'Tours', 'etat': 'En cours'},\n",
        "           '1': {'numero': 'VWD74550', 'nom': 'Dorothy Vaughan', 'adresse': '33 rue Al-Kindi', 'ville': 'Bordeaux', 'etat': 'En cours'},\n",
        "           '2': {'numero': 'SWK65993', 'nom': 'Gilles Kahn', 'adresse': '53 rue Ingrid Daubechies', 'ville': 'Lille', 'etat': 'En cours'},\n",
        "           '3': {'numero': 'NKR34542', 'nom': 'Ada Lovelace', 'adresse': '98 rue Jules César', 'ville': 'Bordeaux', 'etat': 'Livrée'},\n",
        "           '4': {'numero': 'GEG58414', 'nom': 'Jacques-Louis Lions', 'adresse': '84 rue Al-Kindi', 'ville': 'Rennes', 'etat': 'Retour'},\n",
        "           '5': {'numero': 'FZA36963', 'nom': 'Al-Khwarizmi', 'adresse': '73 rue Adi Shamir', 'ville': 'Marseille', 'etat': 'En cours'},\n",
        "           '6': {'numero': 'QWE58690', 'nom': 'Alonzo Church', 'adresse': '47 rue Jules César', 'ville': 'Paris', 'etat': 'Retour'},\n",
        "           '7': {'numero': 'NLY90647', 'nom': 'Hypatie d’Alexandrie', 'adresse': '51 rue Whitfield Diffie', 'ville': 'Bordeaux', 'etat': 'En cours'},\n",
        "           '8': {'numero': 'VVL26047', 'nom': 'Alonzo Church', 'adresse': '6: rue Adi Shamir', 'ville': 'Montpellier', 'etat': 'En cours'},\n",
        "           '9': {'numero': 'CXO07384', 'nom': 'Jacques-Louis Lions', 'adresse': '30 rue Whitfield Diffie', 'ville': 'Paris', 'etat': 'Livrée'}\n",
        "            '11': {'numero': 'AZE1029', 'nom': 'Alan Turin', 'adresse': \"314 rue d'Enigma\", 'ville': 'Londres', 'etat': 'En cours'}\n",
        "            }"
      ]
    },
    {
      "cell_type": "code",
      "metadata": {
        "id": "ogS_O9DJnC7o"
      },
      "source": [
        "def supprimer_commande(numero):\n",
        "    '''\n",
        "    supprime la commande correspondant au n°\n",
        "    : numero : str\n",
        "    : return : le dict commandes\n",
        "    \n",
        "    '''\n"
      ],
      "execution_count": null,
      "outputs": []
    },
    {
      "cell_type": "markdown",
      "metadata": {
        "id": "Q2UZztcaoBcy"
      },
      "source": [
        "    >>>supprimer_commande('EMA70495')  \n",
        "    >>>print(commandes)\n",
        "    {'1': {'numero': 'VWD74550', 'nom': 'Dorothy Vaughan', 'adresse': '33 rue Al-Kindi', 'ville': 'Bordeaux', 'etat': 'En cours'},\n",
        "    '2': {'numero': 'SWK65993', 'nom': 'Gilles Kahn', 'adresse': '53 rue Ingrid Daubechies', 'ville': 'Lille', 'etat': 'En cours'},\n",
        "    '3': {'numero': 'NKR34542', 'nom': 'Ada Lovelace', 'adresse': '98 rue Jules César', 'ville': 'Bordeaux', 'etat': 'Livrée'},\n",
        "    '4': {'numero': 'GEG58414', 'nom': 'Jacques-Louis Lions', 'adresse': '84 rue Al-Kindi', 'ville': 'Rennes', 'etat': 'Retour'},\n",
        "    '5': {'numero': 'FZA36963', 'nom': 'Al-Khwarizmi', 'adresse': '73 rue Adi Shamir', 'ville': 'Marseille', 'etat': 'En cours'},\n",
        "    '6': {'numero': 'QWE58690', 'nom': 'Alonzo Church', 'adresse': '47 rue Jules César', 'ville': 'Paris', 'etat': 'Retour'},\n",
        "    '7': {'numero': 'NLY90647', 'nom': 'Hypatie d’Alexandrie', 'adresse': '51 rue Whitfield Diffie', 'ville': 'Bordeaux', 'etat': 'En cours'},\n",
        "    '8': {'numero': 'VVL26047', 'nom': 'Alonzo Church', 'adresse': '6: rue Adi Shamir', 'ville': 'Montpellier', 'etat': 'En cours'},\n",
        "    '9': {'numero': 'CXO07384', 'nom': 'Jacques-Louis Lions', 'adresse': '30 rue Whitfield Diffie', 'ville': 'Paris', 'etat': 'Livrée'}}\n",
        "    >>> supprimer_commande('EMA70895')\n",
        "    numero de commande non existant"
      ]
    }
  ]
}